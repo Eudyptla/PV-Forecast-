{
 "cells": [
  {
   "cell_type": "code",
   "execution_count": 1,
   "metadata": {},
   "outputs": [],
   "source": [
    "# import library\n",
    "import pandas as pd\n",
    "import numpy as np\n",
    "import seaborn as sns\n",
    "import matplotlib.pyplot as plt\n",
    "from warnings import filterwarnings\n",
    "filterwarnings('ignore')"
   ]
  },
  {
   "cell_type": "code",
   "execution_count": null,
   "metadata": {},
   "outputs": [],
   "source": [
    "# quick look data\n",
    "Irrandance = pd.read_csv('data\\\\Taichung_DE_WUQI_sun4.csv', parse_dates=['Date'], index_col='Date', encoding='utf-8-sig')"
   ]
  },
  {
   "cell_type": "code",
   "execution_count": 16,
   "metadata": {},
   "outputs": [
    {
     "name": "stdout",
     "output_type": "stream",
     "text": [
      "       Unnamed: 0  StnPres  SeaPres  Temperaure  Td dew point  RH   WS     WD  \\\n",
      "0  2016/1/1 06:00   1021.4   1024.6        14.8          11.3  80  3.0   10.0   \n",
      "1  2016/1/1 07:00   1022.1   1025.3        14.6          11.4  81  2.9   20.0   \n",
      "2  2016/1/1 08:00   1022.7   1025.9        15.8          12.1  79  3.0   10.0   \n",
      "3  2016/1/1 09:00   1023.2   1026.4        18.3          13.1  72  2.5  350.0   \n",
      "4  2016/1/1 10:00   1023.0   1026.2        19.2          13.3  69  5.5  350.0   \n",
      "\n",
      "   WSGus  WDGus  ...  SunShine  GloblRad  Visb  UVI  Cloud Amount  power(KWH)  \\\n",
      "0    6.8     20  ...       0.0      0.00   NaN  NaN           NaN         NaN   \n",
      "1    5.7     20  ...       0.0      0.00   NaN  NaN           NaN         NaN   \n",
      "2    5.1    360  ...       0.7      0.30  10.0  NaN           6.0       146.0   \n",
      "3    6.5     30  ...       1.0      0.89  12.0  NaN           5.0       444.0   \n",
      "4    8.1    350  ...       1.0      1.52   NaN  NaN           NaN       680.0   \n",
      "\n",
      "   solarirrandance  month  date  hour  \n",
      "0         4.164694      1     1     6  \n",
      "1       107.933226      1     1     7  \n",
      "2       305.363132      1     1     8  \n",
      "3       477.315428      1     1     9  \n",
      "4       621.637047      1     1    10  \n",
      "\n",
      "[5 rows x 22 columns]\n"
     ]
    }
   ],
   "source": [
    "data = pd.read_csv('Taichung_DE_WUQI_sun4.csv', encoding='utf-8-sig')\n",
    "print(data.head())"
   ]
  },
  {
   "cell_type": "code",
   "execution_count": 18,
   "metadata": {},
   "outputs": [
    {
     "name": "stdout",
     "output_type": "stream",
     "text": [
      "                     StnPres  SeaPres  Temperaure  Td dew point  RH   WS  \\\n",
      "Date                                                                       \n",
      "2016-01-01 06:00:00   1021.4   1024.6        14.8          11.3  80  3.0   \n",
      "2016-01-01 07:00:00   1022.1   1025.3        14.6          11.4  81  2.9   \n",
      "2016-01-01 08:00:00   1022.7   1025.9        15.8          12.1  79  3.0   \n",
      "2016-01-01 09:00:00   1023.2   1026.4        18.3          13.1  72  2.5   \n",
      "2016-01-01 10:00:00   1023.0   1026.2        19.2          13.3  69  5.5   \n",
      "\n",
      "                        WD  WSGus  WDGus  Precp  ...  SunShine  GloblRad  \\\n",
      "Date                                             ...                       \n",
      "2016-01-01 06:00:00   10.0    6.8     20    0.0  ...       0.0      0.00   \n",
      "2016-01-01 07:00:00   20.0    5.7     20    0.0  ...       0.0      0.00   \n",
      "2016-01-01 08:00:00   10.0    5.1    360    0.0  ...       0.7      0.30   \n",
      "2016-01-01 09:00:00  350.0    6.5     30    0.0  ...       1.0      0.89   \n",
      "2016-01-01 10:00:00  350.0    8.1    350    0.0  ...       1.0      1.52   \n",
      "\n",
      "                     Visb  UVI  Cloud Amount  power(KWH)  Solar Irradiance  \\\n",
      "Date                                                                         \n",
      "2016-01-01 06:00:00   NaN  NaN           NaN         NaN          4.164694   \n",
      "2016-01-01 07:00:00   NaN  NaN           NaN         NaN        107.933226   \n",
      "2016-01-01 08:00:00  10.0  NaN           6.0       146.0        305.363132   \n",
      "2016-01-01 09:00:00  12.0  NaN           5.0       444.0        477.315428   \n",
      "2016-01-01 10:00:00   NaN  NaN           NaN       680.0        621.637047   \n",
      "\n",
      "                     month  date  hour  \n",
      "Date                                    \n",
      "2016-01-01 06:00:00      1     1     6  \n",
      "2016-01-01 07:00:00      1     1     7  \n",
      "2016-01-01 08:00:00      1     1     8  \n",
      "2016-01-01 09:00:00      1     1     9  \n",
      "2016-01-01 10:00:00      1     1    10  \n",
      "\n",
      "[5 rows x 21 columns]\n"
     ]
    }
   ],
   "source": [
    "data.rename(columns={'Unnamed: 0':'Date', 'solarirrandance':'Solar Irradiance'}, inplace=True)\n",
    "data['Date'] = pd.to_datetime(data['Date'])\n",
    "data.set_index('Date', inplace=True)\n",
    "print(data.head())"
   ]
  },
  {
   "cell_type": "code",
   "execution_count": 19,
   "metadata": {},
   "outputs": [
    {
     "name": "stdout",
     "output_type": "stream",
     "text": [
      "Date\n",
      "2016-01-01 06:00:00      4.164694\n",
      "2016-01-01 07:00:00    107.933226\n",
      "2016-01-01 08:00:00    305.363132\n",
      "2016-01-01 09:00:00    477.315428\n",
      "2016-01-01 10:00:00    621.637047\n",
      "Name: Solar Irradiance, dtype: float64\n"
     ]
    }
   ],
   "source": [
    "Irradiance = data['Solar Irradiance']\n",
    "print(Irradiance.head())"
   ]
  },
  {
   "cell_type": "code",
   "execution_count": 20,
   "metadata": {},
   "outputs": [],
   "source": [
    "data.to_csv('Taichung_DE_WUQI_sun5.csv', encoding='utf-8-sig')\n",
    "Irradiance.to_csv('Solar_Irradiance.csv', encoding='utf-8-sig')"
   ]
  },
  {
   "cell_type": "code",
   "execution_count": null,
   "metadata": {},
   "outputs": [],
   "source": []
  }
 ],
 "metadata": {
  "kernelspec": {
   "display_name": "Python 3",
   "language": "python",
   "name": "python3"
  },
  "language_info": {
   "codemirror_mode": {
    "name": "ipython",
    "version": 3
   },
   "file_extension": ".py",
   "mimetype": "text/x-python",
   "name": "python",
   "nbconvert_exporter": "python",
   "pygments_lexer": "ipython3",
   "version": "3.8.3"
  }
 },
 "nbformat": 4,
 "nbformat_minor": 4
}
