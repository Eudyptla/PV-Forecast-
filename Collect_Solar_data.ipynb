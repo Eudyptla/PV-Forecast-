{
 "cells": [
  {
   "cell_type": "markdown",
   "metadata": {},
   "source": [
    "# Collect Solar Data "
   ]
  },
  {
   "cell_type": "markdown",
   "metadata": {},
   "source": [
    "A web crawler is used to collect data from Taipower.\n",
    "\n",
    "Data from: https://www.taipower.com.tw/d006/loadGraph/loadGraph/genshx_.html\n",
    "\n"
   ]
  },
  {
   "cell_type": "code",
   "execution_count": 1,
   "metadata": {},
   "outputs": [],
   "source": [
    "# import module\n",
    "from bs4 import BeautifulSoup\n",
    "import requests\n",
    "import pandas as pd"
   ]
  },
  {
   "cell_type": "code",
   "execution_count": 4,
   "metadata": {},
   "outputs": [
    {
     "name": "stdout",
     "output_type": "stream",
     "text": [
      "{'金門金沙': [0.0], '台中生水池': [0.0], '興達生水池': [0.0], '嘉義民雄': [0.0], '中部儲運': [0.0], '東勢新伯公': [0.0], '永安鹽灘地': [0.0], '路北': [0.0], '中原大學': [0.0], '大潭生水池': [0.0], '核三生水池': [0.0], '七美': [0.0], '尖山': [0.0], '卓蘭': [0.0], '后里': [0.0], '台中龍井': [0.0], '七股': [0.0], '龍潭E/S': [0.0], '竹工E/S': [0.0], '中科E/S': [0.0], '彰林E/S': [0.0], '高雄E/S': [0.0], '燕巢倉庫': [0.0], '大潭': [0.0], '北儲': [0.0], '彰濱光': [0.0], '南鹽光(註10)': [0.0], '崙尾光(註10)': [0.0]}\n"
     ]
    }
   ],
   "source": [
    "# analysis html construct get url\n",
    "url = \"https://www.taipower.com.tw/d006/loadGraph/loadGraph/data/genary.txt\"\n",
    "page = requests.get(url)\n",
    "page.encoding = 'utf-8'\n",
    "soup = BeautifulSoup(page.text, 'lxml')\n",
    "\n",
    "# get text\n",
    "text = soup.get_text()\n",
    "text_list = text.split('[')\n",
    "\n",
    "solar_p = [i for i in text_list[1:] if ('太陽能' in i) & ('小計' not in i) & ('太陽能購電' not in i)]\n",
    "solar_temp = [i.rstrip(', \"],').split(',') for i in solar_p]\n",
    "solar_dict = {i[1].strip(' \" ').rstrip(' \" '): [float(i[3].strip(' \" ').rstrip(' \" '))] for i in solar_temp}\n",
    "print(solar_dict) # show now power"
   ]
  },
  {
   "cell_type": "code",
   "execution_count": 5,
   "metadata": {},
   "outputs": [
    {
     "name": "stdout",
     "output_type": "stream",
     "text": [
      "2021-05-09 20:30\n"
     ]
    }
   ],
   "source": [
    "# check time\n",
    "time = text_list[0]\n",
    "time_str = ''\n",
    "time = time_str.join(list(filter(lambda ch: ch in '0123456789-: ', time)))\n",
    "time = time.strip(':').rstrip(':')\n",
    "print(time)"
   ]
  },
  {
   "cell_type": "code",
   "execution_count": 10,
   "metadata": {},
   "outputs": [
    {
     "name": "stdout",
     "output_type": "stream",
     "text": [
      "                     時間     七美  七美二期   七股   中原大學  中科E/S   中部儲運     北儲     卓蘭  \\\n",
      "0      2018-07-27 17:50  0.005   NaN  NaN  0.001    NaN  0.002    NaN  0.002   \n",
      "1      2018-07-27 17:50  0.005   NaN  NaN  0.001    NaN  0.002    NaN  0.002   \n",
      "2      2018-07-27 18:00  0.003   NaN  NaN  0.000    NaN  0.002    NaN  0.001   \n",
      "3      2018-07-27 18:00  0.003   NaN  NaN  0.000    NaN  0.002    NaN  0.001   \n",
      "4      2018-07-27 18:00  0.003   NaN  NaN  0.000    NaN  0.002    NaN  0.001   \n",
      "...                 ...    ...   ...  ...    ...    ...    ...    ...    ...   \n",
      "42198  2019-06-06 10:50  0.081  0.14  0.0  0.020  0.155  0.039  0.718  0.019   \n",
      "42199  2021-03-01 18:50  0.000   NaN  0.0  0.000  0.000  0.001  0.000  0.000   \n",
      "42200  2021-03-01 18:50  0.000   NaN  0.0  0.000  0.000  0.001  0.000  0.000   \n",
      "42201  2021-05-09 20:30  0.000   NaN  0.0  0.000  0.000  0.000  0.000  0.000   \n",
      "42202  2021-05-09 20:30  0.000   NaN  0.0  0.000  0.000  0.000  0.000  0.000   \n",
      "\n",
      "       台中生水池  ...   燕巢倉庫  竹工E/S  興達生水池     路北  金門金沙  高雄E/S  龍潭E/S  彰濱光  \\\n",
      "0      0.076  ...    NaN    NaN  0.011  0.001  0.00    NaN    NaN  NaN   \n",
      "1      0.076  ...    NaN    NaN  0.011  0.001  0.00    NaN    NaN  NaN   \n",
      "2      0.056  ...    NaN    NaN  0.021  0.001  0.00    NaN    NaN  NaN   \n",
      "3      0.056  ...    NaN    NaN  0.021  0.001  0.00    NaN    NaN  NaN   \n",
      "4      0.056  ...    NaN    NaN  0.021  0.001  0.00    NaN    NaN  NaN   \n",
      "...      ...  ...    ...    ...    ...    ...   ...    ...    ...  ...   \n",
      "42198  0.960  ...  0.057  0.089  0.543  0.020  0.24  0.178  0.134  NaN   \n",
      "42199  0.000  ...  0.000  0.000  0.000  0.000  0.00  0.000  0.001  0.0   \n",
      "42200  0.000  ...  0.000  0.000  0.000  0.000  0.00  0.000  0.001  0.0   \n",
      "42201  0.000  ...  0.000  0.000  0.000  0.000  0.00  0.000  0.000  0.0   \n",
      "42202  0.000  ...  0.000  0.000  0.000  0.000  0.00  0.000  0.000  0.0   \n",
      "\n",
      "       南鹽光(註10)  崙尾光(註10)  \n",
      "0           NaN       NaN  \n",
      "1           NaN       NaN  \n",
      "2           NaN       NaN  \n",
      "3           NaN       NaN  \n",
      "4           NaN       NaN  \n",
      "...         ...       ...  \n",
      "42198       NaN       NaN  \n",
      "42199       0.0       0.0  \n",
      "42200       0.0       0.0  \n",
      "42201       0.0       0.0  \n",
      "42202       0.0       0.0  \n",
      "\n",
      "[42203 rows x 31 columns]\n"
     ]
    }
   ],
   "source": [
    "# save data\n",
    "my_df = pd.read_csv('data\\\\solar.csv', encoding='utf-8', index_col=0)\n",
    "solar = pd.DataFrame(solar_dict)\n",
    "solar['時間'] = time\n",
    "my_df = my_df.append(solar, ignore_index=True)\n",
    "first_col = my_df.pop('時間')  # set time as first col\n",
    "my_df.insert(0, '時間', first_col)\n",
    "my_df.to_csv('data\\\\solar.csv', encoding='utf-8-sig')\n",
    "print(my_df)# show data"
   ]
  },
  {
   "cell_type": "code",
   "execution_count": null,
   "metadata": {},
   "outputs": [],
   "source": []
  },
  {
   "cell_type": "code",
   "execution_count": null,
   "metadata": {},
   "outputs": [],
   "source": []
  }
 ],
 "metadata": {
  "kernelspec": {
   "display_name": "Python 3",
   "language": "python",
   "name": "python3"
  },
  "language_info": {
   "codemirror_mode": {
    "name": "ipython",
    "version": 3
   },
   "file_extension": ".py",
   "mimetype": "text/x-python",
   "name": "python",
   "nbconvert_exporter": "python",
   "pygments_lexer": "ipython3",
   "version": "3.8.3"
  }
 },
 "nbformat": 4,
 "nbformat_minor": 4
}
