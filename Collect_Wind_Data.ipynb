{
 "cells": [
  {
   "cell_type": "markdown",
   "metadata": {},
   "source": [
    "# Collect Wind Power"
   ]
  },
  {
   "cell_type": "markdown",
   "metadata": {},
   "source": [
    "A web crawler is used to collect data from Taipower.\n",
    "\n",
    "Data from: https://www.taipower.com.tw/d006/loadGraph/loadGraph/genshx_.html"
   ]
  },
  {
   "cell_type": "code",
   "execution_count": 1,
   "metadata": {},
   "outputs": [],
   "source": [
    "# import module\n",
    "from bs4 import BeautifulSoup\n",
    "import requests\n",
    "import pandas as pd"
   ]
  },
  {
   "cell_type": "code",
   "execution_count": 2,
   "metadata": {},
   "outputs": [
    {
     "name": "stdout",
     "output_type": "stream",
     "text": [
      "{'石門': [0.0], '林口': [0.0], '蘆竹': [0.0], '大潭': [1.2], '觀園': [0.2], '香山': [0.0], '台中': [0.0], '台中港': [0.0], '王功': [0.3], '彰工': [0.0], '永興': [0.1], '離岸一期(註10)': [0.0], '雲麥': [0.5], '四湖': [1.5], '恆春': [0.4], '澎湖中屯': [0.2], '金門金沙': [0.0], '澎湖湖西': [0.1], '苗栗竹南': [0.2], '苗栗大鵬': [0.0], '鹿威彰濱': [0.0], '鹿威鹿港': [0.6], '觀威觀音&桃威新屋': [1.8], '中威大安': [0.0], '崎威崎頂': [0.1], '豐威': [0.4], '龍威後龍': [0.5], '苗栗通苑': [0.0], '安威': [0.0], '清風清水': [0.0], '東鋼龍港': [0.0], '海洋竹南': [5.0], '禾風麥寮': [0.0]}\n"
     ]
    }
   ],
   "source": [
    "# analysis html construct get url\n",
    "url = \"https://www.taipower.com.tw/d006/loadGraph/loadGraph/data/genary.txt\"\n",
    "page = requests.get(url)\n",
    "page.encoding = 'utf-8'\n",
    "soup = BeautifulSoup(page.text, 'lxml')\n",
    "# get text\n",
    "text = soup.get_text()\n",
    "text_list = text.split('[')\n",
    "# clean useless data and get wind power\n",
    "wind_temp = [i for i in text_list if ('風力' in i) & ('小計' not in i)]\n",
    "wind_temp = [i.rstrip(', \"],').split(',') for i in wind_temp]\n",
    "wind = {i[1].strip(' \" ').rstrip(' \" '): [float(i[3].strip(' \" ').rstrip(' \" '))] for i in wind_temp}\n",
    "print(wind) # show wind data"
   ]
  },
  {
   "cell_type": "code",
   "execution_count": 4,
   "metadata": {},
   "outputs": [
    {
     "name": "stdout",
     "output_type": "stream",
     "text": [
      "2021-05-09 21:00\n"
     ]
    }
   ],
   "source": [
    "# check time\n",
    "time = text_list[0]\n",
    "time_str = ''\n",
    "time = time_str.join(list(filter(lambda ch: ch in '0123456789-: ', time)))\n",
    "time = time.strip(':').rstrip(':')\n",
    "print(time)#show time"
   ]
  },
  {
   "cell_type": "code",
   "execution_count": 5,
   "metadata": {},
   "outputs": [
    {
     "name": "stdout",
     "output_type": "stream",
     "text": [
      "                     時間  中威大安   台中  台中港   四湖   大潭   安威  崎威崎頂   彰工   恆春  ...  \\\n",
      "0      2018-07-27 17:50   0.2  0.0  0.0  0.0  0.7  0.0   0.0  0.0  0.0  ...   \n",
      "1      2018-07-27 17:50   0.2  0.0  0.0  0.0  0.7  0.0   0.0  0.0  0.0  ...   \n",
      "2      2018-07-27 18:20   0.0  0.0  0.0  0.0  0.7  0.0   0.0  0.0  0.0  ...   \n",
      "3      2018-07-27 18:30   0.0  0.0  0.0  0.0  0.5  0.0   0.0  0.0  0.0  ...   \n",
      "4      2018-07-27 18:40   0.0  0.0  0.0  0.0  0.5  0.0   0.0  0.0  0.0  ...   \n",
      "...                 ...   ...  ...  ...  ...  ...  ...   ...  ...  ...  ...   \n",
      "26088  2019-01-31 11:30   0.0  0.0  0.0  1.6  5.4  0.0   1.4  0.0  0.0  ...   \n",
      "26089  2021-03-01 18:50   3.7  0.0  0.0  0.0  2.0  0.1   0.3  0.0  0.0  ...   \n",
      "26090  2021-03-01 18:50   3.7  0.0  0.0  0.0  2.0  0.1   0.3  0.0  0.0  ...   \n",
      "26091  2021-03-01 18:50   3.7  0.0  0.0  0.0  2.0  0.1   0.3  0.0  0.0  ...   \n",
      "26092  2021-05-09 21:00   0.0  0.0  0.0  1.5  1.2  0.0   0.1  0.0  0.4  ...   \n",
      "\n",
      "       觀威觀音&桃威觀屋   豐威  金門金沙   雲麥   香山  鹿威彰濱  鹿威鹿港  龍威後龍   永興  離岸一期(註10)  \n",
      "0            1.7  0.1   0.4  0.0  0.0   0.0   0.6   0.0  NaN        NaN  \n",
      "1            1.7  0.1   0.4  0.0  0.0   0.0   0.6   0.0  NaN        NaN  \n",
      "2            1.3  0.1   0.4  0.0  0.0   0.0   0.0   0.0  NaN        NaN  \n",
      "3            1.6  0.1   0.1  0.0  0.0   0.0   0.0   0.0  NaN        NaN  \n",
      "4            1.1  0.1   0.4  0.0  0.0   0.0   0.0   0.0  NaN        NaN  \n",
      "...          ...  ...   ...  ...  ...   ...   ...   ...  ...        ...  \n",
      "26088        NaN  1.7   0.5  0.4  2.7   0.6   0.3   6.5  NaN        NaN  \n",
      "26089        NaN  1.0   0.0  0.0  0.0   0.0   0.6   2.3  0.0        0.0  \n",
      "26090        NaN  1.0   0.0  0.0  0.0   0.0   0.6   2.3  0.0        0.0  \n",
      "26091        NaN  1.0   0.0  0.0  0.0   0.0   0.6   2.3  0.0        0.0  \n",
      "26092        NaN  0.4   0.0  0.5  0.0   0.0   0.6   0.5  0.1        0.0  \n",
      "\n",
      "[26093 rows x 35 columns]\n"
     ]
    }
   ],
   "source": [
    "# save data\n",
    "my_df = pd.read_csv('data\\\\wind.csv', encoding='utf-8', index_col=0)\n",
    "wind = pd.DataFrame(wind)\n",
    "wind['時間'] = time\n",
    "my_df = my_df.append(wind, ignore_index=True)\n",
    "first_col = my_df.pop('時間')  # set time as first col\n",
    "my_df.insert(0, '時間', first_col)\n",
    "my_df.to_csv('data\\\\wind.csv', encoding='utf-8-sig')\n",
    "print(my_df) #show data"
   ]
  },
  {
   "cell_type": "code",
   "execution_count": null,
   "metadata": {},
   "outputs": [],
   "source": []
  }
 ],
 "metadata": {
  "kernelspec": {
   "display_name": "Python 3",
   "language": "python",
   "name": "python3"
  },
  "language_info": {
   "codemirror_mode": {
    "name": "ipython",
    "version": 3
   },
   "file_extension": ".py",
   "mimetype": "text/x-python",
   "name": "python",
   "nbconvert_exporter": "python",
   "pygments_lexer": "ipython3",
   "version": "3.8.3"
  }
 },
 "nbformat": 4,
 "nbformat_minor": 4
}
